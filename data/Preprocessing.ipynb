{
 "cells": [
  {
   "cell_type": "markdown",
   "metadata": {},
   "source": [
    "# subway"
   ]
  },
  {
   "cell_type": "code",
   "execution_count": 5,
   "metadata": {},
   "outputs": [],
   "source": [
    "import pandas as pd\n",
    "import numpy as np\n",
    "import datetime\n",
    "import urllib\n",
    "import os\n",
    "import json\n",
    "os.environ['KAKAO_KEY'] = '9c266cb030a36f29f9b6ea9875afa2d6'\n",
    "os.environ['DATASEOUL_KEY'] = '504661694b79757933354551754c70'\n",
    "\n",
    "from datetime import datetime\n",
    "\n",
    "from collections import defaultdict\n",
    "\n",
    "from christmas.crawl import NaverCrawler\n",
    "from christmas.crawl import AddressCoordCrawler, SubwayAddressCrawler, WeatherHistoryCrawler\n",
    "\n",
    "\n",
    "addr_coord_crawl = AddressCoordCrawler()\n",
    "subway_addr_crawl = SubwayAddressCrawler()\n",
    "weather_history_crawl = WeatherHistoryCrawler()\n",
    "\n",
    "def drop_col(pd, columns):\n",
    "    for col in columns:\n",
    "        if col in pd.columns:\n",
    "            pd = pd.drop(col, axis=1)\n",
    "    return pd"
   ]
  },
  {
   "cell_type": "code",
   "execution_count": null,
   "metadata": {},
   "outputs": [],
   "source": [
    "subway_list_path = './rawdata/subway/list/서울특별시 노선별 지하철역 정보(신규).csv'\n",
    "subway_list_df = pd.read_csv(subway_list_path)\n",
    "\n",
    "columns = ['code', 'name', 'eng_name', 'line', 'out_code']\n",
    "\n",
    "subway_list_df.columns = columns\n",
    "\n",
    "# subway_list_df.to_csv('./gendata/subway/list.csv', encoding='utf-8')\n",
    "subway_list_df = subway_list_df.set_index(subway_list_df.name)\n",
    "subway_list_df = subway_list_df.drop('name', axis=1)\n",
    "print(subway_list_df.head())"
   ]
  },
  {
   "cell_type": "code",
   "execution_count": null,
   "metadata": {},
   "outputs": [],
   "source": [
    "# 주소 정보\n",
    "subway_addr_path_1 = './rawdata/subway/서울교통공사 지하철 역별 주소 정보.csv'\n",
    "subway_addr_path_2 = './rawdata/subway/서울교통공사 지하철역 주소 및 전화번호 정보.csv'\n",
    "\n",
    "subway_addr_df_1 = pd.read_csv(subway_addr_path_1)\n",
    "subway_addr_df_2 = pd.read_csv(subway_addr_path_2)\n",
    "\n",
    "subway_addr_df_1 = subway_addr_df_1.drop('연번', axis=1)\n",
    "subway_addr_df_1 = subway_addr_df_1.drop('전화번호', axis=1)\n",
    "subway_addr_df_1 = subway_addr_df_1.drop('지번주소', axis=1)\n",
    "subway_addr_df_1 = subway_addr_df_1.drop('호선', axis=1)\n",
    "subway_addr_df_1 = subway_addr_df_1.drop('우편번호', axis=1)\n",
    "\n",
    "subway_addr_df_1.columns = ['name', 'address']\n",
    "\n",
    "subway_addr_df_1.name = subway_addr_df_1.name.apply(lambda n: n.split('역')[0])\n",
    "\n",
    "subway_addr_df_2 = subway_addr_df_2.drop('호선', axis=1)\n",
    "subway_addr_df_2 = subway_addr_df_2.drop('구주소', axis=1)\n",
    "subway_addr_df_2 = subway_addr_df_2.drop('전화번호', axis=1)\n",
    "\n",
    "subway_addr_df_2.columns = ['name', 'address']\n",
    "\n",
    "subway_addr_df = pd.concat([subway_addr_df_1, subway_addr_df_2])\n",
    "\n",
    "del subway_addr_df_1, subway_addr_df_2\n",
    "\n",
    "subway_addr_df = subway_addr_df.set_index(subway_addr_df.name)\n",
    "subway_addr_df = subway_addr_df.drop('name', axis=1)\n",
    "\n",
    "print(subway_addr_df.head())"
   ]
  },
  {
   "cell_type": "code",
   "execution_count": null,
   "metadata": {},
   "outputs": [],
   "source": [
    "subway_df = subway_list_df.join(subway_addr_df)\n",
    "print(subway_df.head())"
   ]
  },
  {
   "cell_type": "code",
   "execution_count": null,
   "metadata": {
    "scrolled": true
   },
   "outputs": [],
   "source": [
    "for idx, row in subway_df.iterrows():\n",
    "    addr = row.address\n",
    "    if not pd.isna(addr):\n",
    "        x, y = addr_coord_crawl(addr)\n",
    "        if not x:\n",
    "            subway_df.at[idx, 'x'] = x\n",
    "            subway_df.at[idx, 'y'] = y\n",
    "            continue\n",
    "    \n",
    "    station_name = '{}역'.format(row.name)\n",
    "    addr, x, y = subway_addr_crawl(station_name)\n",
    "    if addr:\n",
    "        subway_df.at[idx, 'address'] = addr\n",
    "    subway_df.at[idx, 'x'] = x\n",
    "    subway_df.at[idx, 'y'] = y"
   ]
  },
  {
   "cell_type": "code",
   "execution_count": null,
   "metadata": {},
   "outputs": [],
   "source": [
    "subway_df.to_csv('./gendata/subway/list.csv', encoding='utf-8')\n",
    "subway_df.head()"
   ]
  },
  {
   "cell_type": "code",
   "execution_count": null,
   "metadata": {},
   "outputs": [],
   "source": [
    "subway_famous_path = './rawdata/subway/서울교통공사 역출구별 관광지 정보.csv'\n",
    "subway_famous_pd = pd.read_csv(subway_famous_path)\n",
    "subway_famous_pd = drop_col(subway_famous_pd, ['비고', 'URL', '호선', '역명', '일련번호'])\n",
    "\n",
    "subway_famous_pd.columns = ['famous', 'code', 'famous_exit']\n",
    "\n",
    "subway_famous_pd.code = subway_famous_pd.code.apply(lambda c: '%04d' % c)\n",
    "\n",
    "def exit_to_num(exit):\n",
    "    if pd.isnull(exit):\n",
    "        return None\n",
    "    \n",
    "    if 'Exit' in exit:\n",
    "        exit_num = exit.split('Exit ')[-1].strip()\n",
    "        exit_num = exit_num.split(' ')[0]\n",
    "        return int(exit_num)\n",
    "    \n",
    "    if '번출구' in exit:\n",
    "        exit_num = exit.split('번출구')[0].strip()\n",
    "        exit_num = exit_num.split(' ')[0]\n",
    "        return int()\n",
    "    \n",
    "    if exit == '―':\n",
    "        return None\n",
    "    \n",
    "    if '번 출구' in exit:\n",
    "        return int(exit.split('번 출구')[0].strip())\n",
    "    \n",
    "    if '번' in exit:\n",
    "        return int(exit.split('번')[0].strip())\n",
    "    \n",
    "    if exit.isnumeric():\n",
    "        return int(exit)\n",
    "    \n",
    "    return None\n",
    "\n",
    "subway_famous_pd.famous_exit = subway_famous_pd.famous_exit.apply(exit_to_num)\n",
    "\n",
    "\n",
    "subway_known_path = './rawdata/subway/서울시 역코드로 지하철 주변 주요시설 정보 검색.csv'\n",
    "subway_known_pd = pd.read_csv(subway_known_path, encoding='euc-kr', delimiter='\\t')\n",
    "subway_known_pd = drop_col(subway_known_pd, ['호선', '전철역명', '호선명', '외부코드', '일련번호', '전화번호', '홈페이지', '우편번호', '주소', 'X좌표', 'Y좌표', '툴팁', 'VR 경로', '아이콘', '출력여부'])\n",
    "subway_known_pd.columns = ['code', 'famous_exit', 'famous']\n",
    "\n",
    "def sanitize_exit_num(exit_num):\n",
    "    if exit_num.isnumeric():\n",
    "        return int(exit_num)\n",
    "    return None\n",
    "\n",
    "subway_known_pd.famous_exit = subway_known_pd.famous_exit.apply(sanitize_exit_num)\n",
    "\n",
    "subway_places_pd = pd.concat([subway_famous_pd, subway_known_pd], sort=True)\n",
    "\n",
    "print(subway_places_pd.head())\n",
    "\n",
    "subway_places_pd.to_csv('./gendata/subway/places.csv', encoding='utf-8')"
   ]
  },
  {
   "cell_type": "code",
   "execution_count": null,
   "metadata": {},
   "outputs": [],
   "source": [
    "# https://www.google.com/maps/search/?api=1&query=37.48666213075966,126.83879911291903"
   ]
  },
  {
   "cell_type": "code",
   "execution_count": null,
   "metadata": {},
   "outputs": [],
   "source": [
    "subway_people_path_1 = './rawdata/subway/people/CARD_SUBWAY_MONTH_201512.csv'\n",
    "subway_people_path_2 = './rawdata/subway/people/CARD_SUBWAY_MONTH_201612.csv'\n",
    "subway_people_path_3 = './rawdata/subway/people/CARD_SUBWAY_MONTH_201712.csv'\n",
    "subway_people_df_1 = pd.read_csv(subway_people_path_1, encoding='euc-kr')\n",
    "subway_people_df_2 = pd.read_csv(subway_people_path_1, encoding='euc-kr')\n",
    "subway_people_df_3 = pd.read_csv(subway_people_path_1, encoding='euc-kr')\n",
    "\n",
    "subway_people_df = pd.concat([subway_people_df_1, subway_people_df_2, subway_people_df_3])\n",
    "\n",
    "subway_people_df.columns = ['date', 'line', 'code', 'name', 'in_people', 'out_people', '_']\n",
    "subway_people_df = subway_people_df.drop('_', axis=1)\n",
    "# subway_people_df.date = subway_people_df.date.apply(lambda d: datetime.datetime.strptime(str(d), '%Y%m%d'))\n",
    "# print(subway_people_df.dtypes)\n",
    "subway_people_df.head()\n",
    "\n",
    "subway_people_df.to_csv('./gendata/subway/in_out_by_date.csv', encoding='utf-8')"
   ]
  },
  {
   "cell_type": "code",
   "execution_count": null,
   "metadata": {
    "collapsed": true
   },
   "outputs": [],
   "source": [
    "def get_december_data(year):\n",
    "    subway_people_time_path = './rawdata/subway/time/{}년 일별 역별 시간대별 승하차인원(1~8호선).xlsx'.format(year)\n",
    "    subway_people_time_df = pd.read_excel(subway_people_time_path, sheet_name='{}년'.format(year))\n",
    "    subway_people_time_df = drop_col(subway_people_time_df, ['역명', '호선', '월', '합 계'])\n",
    "    subway_people_time_df.columns = [\n",
    "        'date', 'code', 'type',\n",
    "        '05~06', '06~07', '07~08', '08~09', '09~10', '10-11', '11~12',\n",
    "        '12~13', '13~14', '14~15', '15~16', '16~17', '17~18', '18~19',\n",
    "        '19~20', '20~21', '21~22', '22~23', '23~24', '24~'\n",
    "    ]\n",
    "    subway_people_time_df = subway_people_time_df.set_index(subway_people_time_df.date)\n",
    "    subway_people_time_df = subway_people_time_df.drop('date', axis=1)\n",
    "    subway_people_time_df = subway_people_time_df.query('\"{year}-12-01\" <= date <= \"{next}-01-01\"'.format(year=year, next=year+1))\n",
    "    return subway_people_time_df\n",
    "\n",
    "subway_people_time_df_list = []\n",
    "\n",
    "subway_people_time_df_list.append(get_december_data(2009))\n",
    "subway_people_time_df_list.append(get_december_data(2010))\n",
    "subway_people_time_df_list.append(get_december_data(2011))\n",
    "subway_people_time_df_list.append(get_december_data(2012))\n",
    "subway_people_time_df_list.append(get_december_data(2013))\n",
    "subway_people_time_df_list.append(get_december_data(2014))\n",
    "subway_people_time_df_list.append(get_december_data(2015))\n",
    "subway_people_time_df_list.append(get_december_data(2016))"
   ]
  },
  {
   "cell_type": "code",
   "execution_count": null,
   "metadata": {},
   "outputs": [],
   "source": [
    "subway_people_time_path_17 = './rawdata/subway/time/2017년 일별 역별 시간대별 승하차인원(1~8호선).xlsx'\n",
    "subway_people_time_df_17 = pd.read_excel(subway_people_time_path_17, sheet_name='2017년')\n",
    "subway_people_time_df_17 = drop_col(subway_people_time_df_17, ['역명', '호선', '월', '합 계'])\n",
    "subway_people_time_df_17.columns = [\n",
    "    'date', 'code', 'type',\n",
    "    '05~06', '06~07', '07~08', '08~09', '09~10', '10-11', '11~12',\n",
    "    '12~13', '13~14', '14~15', '15~16', '16~17', '17~18', '18~19',\n",
    "    '19~20', '20~21', '21~22', '22~23', '23~24', '24~'\n",
    "]\n",
    "\n",
    "def date_to_str(date):\n",
    "    if isinstance(date, datetime):\n",
    "        return date.strftime('%Y-%m-%d')\n",
    "    return date\n",
    "\n",
    "subway_people_time_df_17.date = subway_people_time_df_17.date.apply(date_to_str)\n",
    "subway_people_time_df_17 = subway_people_time_df_17.query('\"2017-12-01\" <= date <= \"2018-01-01\"')\n",
    "subway_people_time_df_17 = subway_people_time_df_17.set_index(subway_people_time_df_17.date)\n",
    "subway_people_time_df_17 = subway_people_time_df_17.drop('date', axis=1)\n",
    "subway_people_time_df_list.append(subway_people_time_df_17)"
   ]
  },
  {
   "cell_type": "code",
   "execution_count": null,
   "metadata": {},
   "outputs": [],
   "source": [
    "subway_people_time_df = pd.concat(subway_people_time_df_list)\n",
    "subway_people_time_df.to_csv('./gendata/subway/in_out_by_time.csv', encoding='utf-8')"
   ]
  },
  {
   "cell_type": "markdown",
   "metadata": {},
   "source": [
    "# weather"
   ]
  },
  {
   "cell_type": "code",
   "execution_count": 2,
   "metadata": {},
   "outputs": [],
   "source": [
    "seoul_region_list = [\n",
    "    '강남', '강동', '강북', '강서', '관악', '광진', '구로',\n",
    "    '금천', '노원', '도봉', '동대문', '동작', '마포', '서대문',\n",
    "    '서초', '성동', '성북', '송파', '양천', '영등포', '용산',\n",
    "    '은평', '종로', '중구', '중랑'\n",
    "]\n",
    "columns=[\n",
    "    'date', 'region', 'ta_avg', 'ta_max', 'ta_min', 'hd_avg', 'hd_max', 'hd_min', 'ws_avg',\n",
    "    'ws_max', 'rn_sum' # temp, humidity, wind speed, rain\n",
    "]\n",
    "years = [2009, 2010, 2011, 2012, 2013, 2014, 2015, 2016, 2017, 2018]"
   ]
  },
  {
   "cell_type": "code",
   "execution_count": 10,
   "metadata": {
    "collapsed": true
   },
   "outputs": [],
   "source": [
    "def get_weather_list(year, region):\n",
    "    d = weather_history_crawl(year, region)\n",
    "    d = json.loads(d)\n",
    "    if 'DailyWeatherStation' not in d:\n",
    "        print(year, region)\n",
    "        return None\n",
    "    d = d['DailyWeatherStation']\n",
    "    weather_list = []\n",
    "    for weather in d['row']:\n",
    "        date = weather['SAWS_OBS_TM']\n",
    "        if date >= '{}1201'.format(year):\n",
    "            ta_avg = weather['SAWS_TA_AVG']\n",
    "            ta_max = weather['SAWS_TA_MAX']\n",
    "            ta_min = weather['SAWS_TA_MIN']\n",
    "            hd_avg = weather['SAWS_HD_AVG']\n",
    "            hd_max = weather['SAWS_HD_MAX']\n",
    "            hd_min = weather['SAWS_HD_MIN']\n",
    "            ws_avg = weather['SAWS_WS_AVG']\n",
    "            ws_max = weather['SAWS_WS_MAX']\n",
    "            rn_sum = weather['SAWS_RN_SUM']\n",
    "\n",
    "            weather_day_dict = {\n",
    "                'date': date, 'region': region, 'ta_avg': ta_avg, 'ta_max': ta_max, 'ta_min': ta_min, 'hd_avg': hd_avg,\n",
    "                'hd_max': hd_max, 'hd_min': hd_min, 'ws_avg': ws_avg, 'ws_max': ws_max,\n",
    "                'rn_sum': rn_sum,\n",
    "            }\n",
    "            weather_list.append(weather_day_dict)\n",
    "    return weather_list"
   ]
  },
  {
   "cell_type": "code",
   "execution_count": 11,
   "metadata": {},
   "outputs": [
    {
     "name": "stdout",
     "output_type": "stream",
     "text": [
      "2018 강서\n"
     ]
    }
   ],
   "source": [
    "whole_weather_list = []\n",
    "for year in years:\n",
    "    for region in seoul_region_list:\n",
    "        weather_list = get_weather_list(year, region)\n",
    "        if weather_list:\n",
    "            whole_weather_list.extend(weather_list)\n",
    "weather_pd = pd.DataFrame(whole_weather_list, columns=columns)"
   ]
  },
  {
   "cell_type": "code",
   "execution_count": 13,
   "metadata": {},
   "outputs": [],
   "source": [
    "weather_pd.to_csv('./gendata/weather/by_region.csv', encoding='utf-8')"
   ]
  },
  {
   "cell_type": "code",
   "execution_count": null,
   "metadata": {
    "collapsed": true
   },
   "outputs": [],
   "source": []
  }
 ],
 "metadata": {
  "kernelspec": {
   "display_name": "data_py3.6",
   "language": "python",
   "name": "data_py3.6"
  },
  "language_info": {
   "codemirror_mode": {
    "name": "ipython",
    "version": 3
   },
   "file_extension": ".py",
   "mimetype": "text/x-python",
   "name": "python",
   "nbconvert_exporter": "python",
   "pygments_lexer": "ipython3",
   "version": "3.6.6"
  }
 },
 "nbformat": 4,
 "nbformat_minor": 2
}
