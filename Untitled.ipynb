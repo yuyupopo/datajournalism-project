{
 "cells": [
  {
   "cell_type": "code",
   "execution_count": 8,
   "metadata": {
    "scrolled": true
   },
   "outputs": [],
   "source": [
    "import urllib.request\n",
    "import json"
   ]
  },
  {
   "cell_type": "code",
   "execution_count": 9,
   "metadata": {},
   "outputs": [
    {
     "name": "stdout",
     "output_type": "stream",
     "text": [
      "20151224\n",
      "http://openapi.seoul.go.kr:8088/42467970507368303731506c745754/json/CardSubwayStatsNew/1/1000/20151224\n"
     ]
    }
   ],
   "source": [
    "api_key = \"42467970507368303731506c745754\"\n",
    "date = input()\n",
    "base_url = \"http://openapi.seoul.go.kr:8088/{}/json/CardSubwayStatsNew/1/1000/{}\".format(api_key, date)\n",
    "\n",
    "print(base_url)"
   ]
  },
  {
   "cell_type": "code",
   "execution_count": null,
   "metadata": {},
   "outputs": [],
   "source": [
    "from collections import OrderedDict\n",
    "\n"
   ]
  },
  {
   "cell_type": "code",
   "execution_count": 10,
   "metadata": {},
   "outputs": [
    {
     "ename": "SyntaxError",
     "evalue": "invalid syntax (<ipython-input-10-a16b37f558e9>, line 1)",
     "output_type": "error",
     "traceback": [
      "\u001b[1;36m  File \u001b[1;32m\"<ipython-input-10-a16b37f558e9>\"\u001b[1;36m, line \u001b[1;32m1\u001b[0m\n\u001b[1;33m    http://openapi.seoul.go.kr:8088/42467970507368303731506c745754/json/CardSubwayStatsNew/1/1000/20161224\u001b[0m\n\u001b[1;37m          ^\u001b[0m\n\u001b[1;31mSyntaxError\u001b[0m\u001b[1;31m:\u001b[0m invalid syntax\n"
     ]
    }
   ],
   "source": [
    "http://openapi.seoul.go.kr:8088/42467970507368303731506c745754/json/CardSubwayStatsNew/1/1000/20161224\n",
    "http://openapi.seoul.go.kr:8088/42467970507368303731506c745754/json/CardSubwayStatsNew/1/1000/20151224\n",
    "http://openapi.seoul.go.kr:8088/42467970507368303731506c745754/json/CardSubwayStatsNew/1/1000/20141224\n",
    "http://openapi.seoul.go.kr:8088/42467970507368303731506c745754/json/CardSubwayStatsNew/1/1000/20131224\n",
    "http://openapi.seoul.go.kr:8088/42467970507368303731506c745754/json/CardSubwayStatsNew/1/1000/20121224\n",
    "\n"
   ]
  },
  {
   "cell_type": "code",
   "execution_count": 22,
   "metadata": {},
   "outputs": [],
   "source": [
    "from collections import OrderedDict\n",
    "url = \"http://openapi.seoul.go.kr:8088/42467970507368303731506c745754/json/CardSubwayStatsNew/1/1000/20161224\"\n",
    "with urllib.request.urlopen(url) as response:\n",
    "    usage_2016 = OrderedDict()\n",
    "    usage_2016 = json.loads(response.read().decode('utf-8'))\n",
    "\n",
    "with open('2016_usage','w') as f:\n",
    "    json.dump(usage_2016, f)"
   ]
  },
  {
   "cell_type": "code",
   "execution_count": 26,
   "metadata": {},
   "outputs": [],
   "source": [
    "url = \"http://openapi.seoul.go.kr:8088/42467970507368303731506c745754/json/CardSubwayStatsNew/1/1000/20131224\"\n",
    "with urllib.request.urlopen(url) as response:\n",
    "    usage = OrderedDict()\n",
    "    usage = json.loads(response.read().decode('utf-8'))\n",
    "\n",
    "with open('2013_usage','w') as f:\n",
    "    json.dump(usage, f)"
   ]
  }
 ],
 "metadata": {
  "kernelspec": {
   "display_name": "Python 3",
   "language": "python",
   "name": "python3"
  },
  "language_info": {
   "codemirror_mode": {
    "name": "ipython",
    "version": 3
   },
   "file_extension": ".py",
   "mimetype": "text/x-python",
   "name": "python",
   "nbconvert_exporter": "python",
   "pygments_lexer": "ipython3",
   "version": "3.6.0"
  }
 },
 "nbformat": 4,
 "nbformat_minor": 2
}
