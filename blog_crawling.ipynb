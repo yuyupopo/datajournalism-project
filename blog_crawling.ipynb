{
 "cells": [
  {
   "cell_type": "code",
   "execution_count": 2,
   "metadata": {},
   "outputs": [
    {
     "ename": "IndentationError",
     "evalue": "unexpected indent (<ipython-input-2-f475f8d4d0a0>, line 8)",
     "output_type": "error",
     "traceback": [
      "\u001b[1;36m  File \u001b[1;32m\"<ipython-input-2-f475f8d4d0a0>\"\u001b[1;36m, line \u001b[1;32m8\u001b[0m\n\u001b[1;33m    base_url = \"https://blog.naver.com/PostView.nhn?blogId=lyu1388&logNo=221414599396&from=search&redirect=Log&widgetTypeCall=true&topReferer=https%3A%2F%2Fsearch.naver.com%2Fsearch.naver%3Fsm%3Dtop_hty%26fbm%3D1%26ie%3Dutf8%26query%3D%25ED%2581%25AC%25EB%25A6%25AC%25EC%258A%25A4%25EB%25A7%2588%25EC%258A%25A4%2B%25EA%25B0%2580%25EB%25B3%25BC%25EB%25A7%258C%25ED%2595%259C%25EA%25B3%25B3&directAccess=false\"\u001b[0m\n\u001b[1;37m    ^\u001b[0m\n\u001b[1;31mIndentationError\u001b[0m\u001b[1;31m:\u001b[0m unexpected indent\n"
     ]
    }
   ],
   "source": [
    "from bs4 import BeautifulSoup\n",
    "import urllib.request\n",
    "import json\n",
    "import re\n",
    "\n",
    "\n",
    "#for base_url in url_list:\n",
    "    base_url = \"https://blog.naver.com/PostView.nhn?blogId=lyu1388&logNo=221414599396&from=search&redirect=Log&widgetTypeCall=true&topReferer=https%3A%2F%2Fsearch.naver.com%2Fsearch.naver%3Fsm%3Dtop_hty%26fbm%3D1%26ie%3Dutf8%26query%3D%25ED%2581%25AC%25EB%25A6%25AC%25EC%258A%25A4%25EB%25A7%2588%25EC%258A%25A4%2B%25EA%25B0%2580%25EB%25B3%25BC%25EB%25A7%258C%25ED%2595%259C%25EA%25B3%25B3&directAccess=false\"\n",
    "    with urllib.request.urlopen(base_url) as url:\n",
    "        doc = url.read()\n",
    "        soup = BeautifulSoup(doc, \"html.parser\")\n",
    "        \n",
    "        \n",
    "        #블로그 본문 title\n",
    "        title = soup.find_all(\"h3\", class_=\"se_textarea\")\n",
    "        text_title = title[0].get_text()\n",
    "        print(text_title)\n",
    "        \n",
    "        \n",
    "        \n",
    "        #블로그 본문 수집\n",
    "        \n",
    "        post_text = []\n",
    "        post = soup.find_all(\"p\", class_=\"se_textarea\")\n",
    "        for i in range(len(post)):\n",
    "            post_text.append(post[i].get_text())\n",
    "            print(post_text)\n",
    "            \n",
    "            \n",
    "        #블로그 작성 시간\n",
    "        time = soup.find_all(\"span\", class_=\"se_publishDate pcol2\")\n",
    "        text_time = time[0].get_text()\n",
    "        print(text_time)\n",
    "        \n",
    "        \n",
    "        #블로그 좋아요(공감) 수\n",
    "\n",
    "        json_url = \"https://blog.like.naver.com/v1/search/contents?suppress_response_codes=true&callback=jQuery112407360323986585509_1544254484707&q=BLOG%5Blyu1388_221414599396%5D&isDuplication=true&_=1544254484708\"\n",
    "        with urllib.request.urlopen(json_url) as url:\n",
    "            json_doc = url.read().decode(\"utf-8\")\n",
    "            json_doc = re.sub(r'/\\*\\*/jQuery[\\d_]+\\(({.*)\\);', r'\\1', json_doc)\n",
    "            json_data = json.loads(json_doc)\n",
    "            \n",
    "            json_data2 = json_data['contents']\n",
    "            for data in json__data2:\n",
    "                json_like_data = data['reactions']\n",
    "            for data in json_like_data:\n",
    "                print(data['reactionType'])\n",
    "                print(data['count'])"
   ]
  }
 ],
 "metadata": {
  "kernelspec": {
   "display_name": "Python 3",
   "language": "python",
   "name": "python3"
  },
  "language_info": {
   "codemirror_mode": {
    "name": "ipython",
    "version": 3
   },
   "file_extension": ".py",
   "mimetype": "text/x-python",
   "name": "python",
   "nbconvert_exporter": "python",
   "pygments_lexer": "ipython3",
   "version": "3.7.0"
  }
 },
 "nbformat": 4,
 "nbformat_minor": 2
}
