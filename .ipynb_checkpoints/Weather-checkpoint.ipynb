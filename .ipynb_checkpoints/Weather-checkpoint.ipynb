{
 "cells": [
  {
   "cell_type": "markdown",
   "metadata": {},
   "source": [
    "<h3>※ 미세먼지 농도에 따른 예보등급(미세먼지농도: ㎍/㎥/일) </h3>\n",
    "\n",
    "· 0∼30 : 좋음 · 31∼80 : 보통 · 81∼150 : 나쁨 · 151 이상 : 매우 나쁨"
   ]
  },
  {
   "cell_type": "code",
   "execution_count": 25,
   "metadata": {},
   "outputs": [],
   "source": [
    "import pandas as pd\n",
    "import matplotlib.pyplot as plt\n",
    "\n",
    "weather_data = pd.read_csv(\"weather.csv\")\n",
    "weather_data.index = weather_data['날짜']\n",
    "weather_data = weather_data.drop(['날짜'],axis=1)"
   ]
  },
  {
   "cell_type": "code",
   "execution_count": 26,
   "metadata": {
    "scrolled": true
   },
   "outputs": [
    {
     "data": {
      "text/html": [
       "<div>\n",
       "<style scoped>\n",
       "    .dataframe tbody tr th:only-of-type {\n",
       "        vertical-align: middle;\n",
       "    }\n",
       "\n",
       "    .dataframe tbody tr th {\n",
       "        vertical-align: top;\n",
       "    }\n",
       "\n",
       "    .dataframe thead th {\n",
       "        text-align: right;\n",
       "    }\n",
       "</style>\n",
       "<table border=\"1\" class=\"dataframe\">\n",
       "  <thead>\n",
       "    <tr style=\"text-align: right;\">\n",
       "      <th></th>\n",
       "      <th>평균기온</th>\n",
       "      <th>최고기온</th>\n",
       "      <th>최저기온</th>\n",
       "      <th>평균운량</th>\n",
       "      <th>강수여부</th>\n",
       "      <th>날씨 특징</th>\n",
       "      <th>초미세먼지(PM-25 (mg/m^3))</th>\n",
       "      <th>미세먼지(PM-10(mg/m^3))</th>\n",
       "    </tr>\n",
       "    <tr>\n",
       "      <th>날짜</th>\n",
       "      <th></th>\n",
       "      <th></th>\n",
       "      <th></th>\n",
       "      <th></th>\n",
       "      <th></th>\n",
       "      <th></th>\n",
       "      <th></th>\n",
       "      <th></th>\n",
       "    </tr>\n",
       "  </thead>\n",
       "  <tbody>\n",
       "    <tr>\n",
       "      <th>20151224</th>\n",
       "      <td>1.5</td>\n",
       "      <td>5.3</td>\n",
       "      <td>-1.6</td>\n",
       "      <td>4.5</td>\n",
       "      <td>-</td>\n",
       "      <td>박무, 연무</td>\n",
       "      <td>61</td>\n",
       "      <td>98</td>\n",
       "    </tr>\n",
       "    <tr>\n",
       "      <th>20151225</th>\n",
       "      <td>-0.8</td>\n",
       "      <td>3.7</td>\n",
       "      <td>-4.9</td>\n",
       "      <td>2.3</td>\n",
       "      <td>-</td>\n",
       "      <td>눈</td>\n",
       "      <td>16</td>\n",
       "      <td>29</td>\n",
       "    </tr>\n",
       "    <tr>\n",
       "      <th>20161224</th>\n",
       "      <td>-2.4</td>\n",
       "      <td>1.1</td>\n",
       "      <td>-4.3</td>\n",
       "      <td>5.5</td>\n",
       "      <td>-</td>\n",
       "      <td>연무</td>\n",
       "      <td>51</td>\n",
       "      <td>67</td>\n",
       "    </tr>\n",
       "    <tr>\n",
       "      <th>20161225</th>\n",
       "      <td>1.0</td>\n",
       "      <td>6.4</td>\n",
       "      <td>-4.5</td>\n",
       "      <td>4.8</td>\n",
       "      <td>-</td>\n",
       "      <td>연무, 박무</td>\n",
       "      <td>42</td>\n",
       "      <td>56</td>\n",
       "    </tr>\n",
       "    <tr>\n",
       "      <th>20171224</th>\n",
       "      <td>2.9</td>\n",
       "      <td>5.7</td>\n",
       "      <td>-0.6</td>\n",
       "      <td>6.6</td>\n",
       "      <td>20.0mm</td>\n",
       "      <td>비, 안개, 박무, 연무</td>\n",
       "      <td>58</td>\n",
       "      <td>78</td>\n",
       "    </tr>\n",
       "    <tr>\n",
       "      <th>20171225</th>\n",
       "      <td>-2.1</td>\n",
       "      <td>0.6</td>\n",
       "      <td>-4.9</td>\n",
       "      <td>2.1</td>\n",
       "      <td>-</td>\n",
       "      <td>-</td>\n",
       "      <td>16</td>\n",
       "      <td>30</td>\n",
       "    </tr>\n",
       "  </tbody>\n",
       "</table>\n",
       "</div>"
      ],
      "text/plain": [
       "          평균기온  최고기온  최저기온  평균운량    강수여부          날씨 특징  \\\n",
       "날짜                                                        \n",
       "20151224   1.5   5.3  -1.6   4.5       -         박무, 연무   \n",
       "20151225  -0.8   3.7  -4.9   2.3       -              눈   \n",
       "20161224  -2.4   1.1  -4.3   5.5       -             연무   \n",
       "20161225   1.0   6.4  -4.5   4.8       -         연무, 박무   \n",
       "20171224   2.9   5.7  -0.6   6.6  20.0mm  비, 안개, 박무, 연무   \n",
       "20171225  -2.1   0.6  -4.9   2.1       -              -   \n",
       "\n",
       "          초미세먼지(PM-25 (mg/m^3))  미세먼지(PM-10(mg/m^3))  \n",
       "날짜                                                    \n",
       "20151224                     61                   98  \n",
       "20151225                     16                   29  \n",
       "20161224                     51                   67  \n",
       "20161225                     42                   56  \n",
       "20171224                     58                   78  \n",
       "20171225                     16                   30  "
      ]
     },
     "execution_count": 26,
     "metadata": {},
     "output_type": "execute_result"
    }
   ],
   "source": [
    "weather_data"
   ]
  },
  {
   "cell_type": "markdown",
   "metadata": {},
   "source": [
    "*****2015년 크리스마스 밤에 눈이 오고 낮에는 맑았음 / 2015년 크리스마스는 금요일, 연휴였음"
   ]
  }
 ],
 "metadata": {
  "kernelspec": {
   "display_name": "Python 3",
   "language": "python",
   "name": "python3"
  },
  "language_info": {
   "codemirror_mode": {
    "name": "ipython",
    "version": 3
   },
   "file_extension": ".py",
   "mimetype": "text/x-python",
   "name": "python",
   "nbconvert_exporter": "python",
   "pygments_lexer": "ipython3",
   "version": "3.6.0"
  }
 },
 "nbformat": 4,
 "nbformat_minor": 2
}
