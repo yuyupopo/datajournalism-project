{
 "cells": [
  {
   "cell_type": "code",
   "execution_count": 8,
   "metadata": {
    "scrolled": true
   },
   "outputs": [],
   "source": [
    "import urllib.request\n",
    "import json"
   ]
  },
  {
   "cell_type": "code",
   "execution_count": 9,
   "metadata": {},
   "outputs": [
    {
     "name": "stdout",
     "output_type": "stream",
     "text": [
      "20151224\n",
      "http://openapi.seoul.go.kr:8088/42467970507368303731506c745754/json/CardSubwayStatsNew/1/1000/20151224\n"
     ]
    }
   ],
   "source": [
    "api_key = \"42467970507368303731506c745754\"\n",
    "date = input()\n",
    "base_url = \"http://openapi.seoul.go.kr:8088/{}/json/CardSubwayStatsNew/1/1000/{}\".format(api_key, date)\n",
    "\n",
    "print(base_url)"
   ]
  },
  {
   "cell_type": "code",
   "execution_count": null,
   "metadata": {},
   "outputs": [],
   "source": [
    "from collections import OrderedDict\n",
    "\n"
   ]
  },
  {
   "cell_type": "code",
   "execution_count": 41,
   "metadata": {},
   "outputs": [],
   "source": [
    "for i in range(20171223,20171227):\n",
    "    url = \"http://openapi.seoul.go.kr:8088/42467970507368303731506c745754/json/CardSubwayStatsNew/1/1000/{}\".format(i)\n",
    "    with urllib.request.urlopen(url) as response:\n",
    "        data = response.read()\n",
    "        usage = json.loads(data)\n",
    "        parsed_data = usage['CardSubwayStatsNew']['row']\n",
    "    \n",
    "    with open('{}_usage.json'.format(i),'w') as f:\n",
    "        json.dump(parsed_data, f, indent='\\t')\n"
   ]
  },
  {
   "cell_type": "code",
   "execution_count": 42,
   "metadata": {},
   "outputs": [],
   "source": [
    "for i in range(20161223,20161227):\n",
    "    url = \"http://openapi.seoul.go.kr:8088/42467970507368303731506c745754/json/CardSubwayStatsNew/1/1000/{}\".format(i)\n",
    "    with urllib.request.urlopen(url) as response:\n",
    "        data = response.read()\n",
    "        usage = json.loads(data)\n",
    "        parsed_data = usage['CardSubwayStatsNew']['row']\n",
    "    \n",
    "    with open('{}_usage.json'.format(i),'w') as f:\n",
    "        json.dump(parsed_data, f, indent='\\t')"
   ]
  },
  {
   "cell_type": "code",
   "execution_count": 43,
   "metadata": {},
   "outputs": [],
   "source": [
    "for i in range(20151223,20151227):\n",
    "    url = \"http://openapi.seoul.go.kr:8088/42467970507368303731506c745754/json/CardSubwayStatsNew/1/1000/{}\".format(i)\n",
    "    with urllib.request.urlopen(url) as response:\n",
    "        data = response.read()\n",
    "        usage = json.loads(data)\n",
    "        parsed_data = usage['CardSubwayStatsNew']['row']\n",
    "    \n",
    "    with open('{}_usage.json'.format(i),'w') as f:\n",
    "        json.dump(parsed_data, f, indent='\\t')"
   ]
  }
 ],
 "metadata": {
  "kernelspec": {
   "display_name": "Python 3",
   "language": "python",
   "name": "python3"
  },
  "language_info": {
   "codemirror_mode": {
    "name": "ipython",
    "version": 3
   },
   "file_extension": ".py",
   "mimetype": "text/x-python",
   "name": "python",
   "nbconvert_exporter": "python",
   "pygments_lexer": "ipython3",
   "version": "3.6.0"
  }
 },
 "nbformat": 4,
 "nbformat_minor": 2
}
