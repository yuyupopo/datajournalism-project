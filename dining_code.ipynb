{
 "cells": [
  {
   "cell_type": "code",
   "execution_count": 33,
   "metadata": {},
   "outputs": [
    {
     "data": {
      "text/plain": [
       "['여기에 우리가게 홍보하기',\n",
       " '1. 명동교자 본점',\n",
       " '2. 우래옥 본점',\n",
       " '3. 을지면옥',\n",
       " '4. 미분당 신촌점',\n",
       " '5. 소이연남',\n",
       " '6. 을밀대 본점',\n",
       " '7. 정돈',\n",
       " '8. 봉피양 방이점',\n",
       " '9. 라이너스바베큐',\n",
       " '10. 새벽집',\n",
       " '다코포인트 5천원 쏨!']"
      ]
     },
     "execution_count": 33,
     "metadata": {},
     "output_type": "execute_result"
    }
   ],
   "source": [
    "from bs4 import BeautifulSoup\n",
    "import urllib.request\n",
    "from selenium import webdriver\n",
    "import time\n",
    "\n",
    "\n",
    "# url = \"http://v.media.daum.net/v/20161103113844417\"\n",
    "url =  \"https://www.diningcode.com/list.php?query=%EC%84%9C%EC%9A%B8%EC%8B%9C\"\n",
    "#url = \"https://ko.foursquare.com/explore?cat=food&mode=url&ne=37.591383%2C127.097912&sw=37.453875%2C126.898098\"\n",
    "driver = webdriver.Chrome(executable_path = r'C:\\Users\\user\\Desktop\\chromedriver_win32\\chromedriver.exe')\n",
    "driver.get(url)\n",
    "\n",
    "found_element = True\n",
    "while found_element:\n",
    "    try:\n",
    "        element = driver.find_element_by_xpath(\"//div[@id='div_list_more']\")\n",
    "        for i in range(10) :\n",
    "            element.click()\n",
    "            time.sleep(3)\n",
    "        \n",
    "    except Exception:\n",
    "        found_element = False\n",
    "\n",
    "html = driver.page_source\n",
    "soup = BeautifulSoup(html, \"html.parser\")\n",
    "\n",
    "food_list = []\n",
    "for i in range(len(food)) :\n",
    "    food_list.append(soup.find_all(\"span\", class_=\"btxt\")[i].text)\n",
    "\n",
    "food_list"
   ]
  },
  {
   "cell_type": "code",
   "execution_count": 32,
   "metadata": {},
   "outputs": [
    {
     "data": {
      "text/plain": [
       "['여기에 우리가게 홍보하기',\n",
       " '1. 명동교자 본점',\n",
       " '2. 우래옥 본점',\n",
       " '3. 을지면옥',\n",
       " '4. 미분당 신촌점',\n",
       " '5. 소이연남',\n",
       " '6. 을밀대 본점',\n",
       " '7. 정돈',\n",
       " '8. 봉피양 방이점',\n",
       " '9. 라이너스바베큐',\n",
       " '10. 새벽집',\n",
       " '여기에 우리가게 홍보하기']"
      ]
     },
     "execution_count": 32,
     "metadata": {},
     "output_type": "execute_result"
    }
   ],
   "source": [
    "food_list = []\n",
    "for i in range(len(food)) :\n",
    "    food_list.append(soup.find_all(\"span\", class_=\"btxt\")[i].text)\n",
    "\n",
    "food_list"
   ]
  },
  {
   "cell_type": "code",
   "execution_count": 17,
   "metadata": {},
   "outputs": [
    {
     "ename": "AttributeError",
     "evalue": "ResultSet object has no attribute 'get_text'. You're probably treating a list of items like a single item. Did you call find_all() when you meant to call find()?",
     "output_type": "error",
     "traceback": [
      "\u001b[1;31m---------------------------------------------------------------------------\u001b[0m",
      "\u001b[1;31mAttributeError\u001b[0m                            Traceback (most recent call last)",
      "\u001b[1;32m<ipython-input-17-fb44eb168325>\u001b[0m in \u001b[0;36m<module>\u001b[1;34m()\u001b[0m\n\u001b[1;32m----> 1\u001b[1;33m \u001b[0mfood_list\u001b[0m\u001b[1;33m[\u001b[0m\u001b[1;36m0\u001b[0m\u001b[1;33m]\u001b[0m\u001b[1;33m.\u001b[0m\u001b[0mget_text\u001b[0m\u001b[1;33m(\u001b[0m\u001b[1;33m)\u001b[0m\u001b[1;33m\u001b[0m\u001b[0m\n\u001b[0m",
      "\u001b[1;32mc:\\users\\user\\appdata\\local\\programs\\python\\python37\\lib\\site-packages\\bs4\\element.py\u001b[0m in \u001b[0;36m__getattr__\u001b[1;34m(self, key)\u001b[0m\n\u001b[0;32m   1882\u001b[0m     \u001b[1;32mdef\u001b[0m \u001b[0m__getattr__\u001b[0m\u001b[1;33m(\u001b[0m\u001b[0mself\u001b[0m\u001b[1;33m,\u001b[0m \u001b[0mkey\u001b[0m\u001b[1;33m)\u001b[0m\u001b[1;33m:\u001b[0m\u001b[1;33m\u001b[0m\u001b[0m\n\u001b[0;32m   1883\u001b[0m         raise AttributeError(\n\u001b[1;32m-> 1884\u001b[1;33m             \u001b[1;34m\"ResultSet object has no attribute '%s'. You're probably treating a list of items like a single item. Did you call find_all() when you meant to call find()?\"\u001b[0m \u001b[1;33m%\u001b[0m \u001b[0mkey\u001b[0m\u001b[1;33m\u001b[0m\u001b[0m\n\u001b[0m\u001b[0;32m   1885\u001b[0m         )\n",
      "\u001b[1;31mAttributeError\u001b[0m: ResultSet object has no attribute 'get_text'. You're probably treating a list of items like a single item. Did you call find_all() when you meant to call find()?"
     ]
    }
   ],
   "source": []
  },
  {
   "cell_type": "code",
   "execution_count": 13,
   "metadata": {},
   "outputs": [
    {
     "data": {
      "text/plain": [
       "[[<span class=\"btxt\">다코포인트 5천원 쏨!</span>,\n",
       "  <span class=\"btxt\">1. 명동교자 본점</span>,\n",
       "  <span class=\"btxt\">2. 우래옥 본점</span>,\n",
       "  <span class=\"btxt\">3. 을지면옥</span>,\n",
       "  <span class=\"btxt\">4. 미분당 신촌점</span>,\n",
       "  <span class=\"btxt\">5. 소이연남</span>,\n",
       "  <span class=\"btxt\">6. 을밀대 본점</span>,\n",
       "  <span class=\"btxt\">7. 정돈</span>,\n",
       "  <span class=\"btxt\">8. 봉피양 방이점</span>,\n",
       "  <span class=\"btxt\">9. 라이너스바베큐</span>,\n",
       "  <span class=\"btxt\">10. 새벽집</span>,\n",
       "  <span class=\"btxt\">다코포인트 5천원 쏨!</span>,\n",
       "  <span class=\"btxt\">11. 윤씨밀방</span>,\n",
       "  <span class=\"btxt\">12. 미진</span>,\n",
       "  <span class=\"btxt\">13. 진주집</span>,\n",
       "  <span class=\"btxt\">14. 청진옥</span>,\n",
       "  <span class=\"btxt\">15. 동원집</span>,\n",
       "  <span class=\"btxt\">16. 하카타분코</span>,\n",
       "  <span class=\"btxt\">17. 육회자매집</span>,\n",
       "  <span class=\"btxt\">18. 백년옥 본점</span>,\n",
       "  <span class=\"btxt\">19. 우마이도 건대점</span>,\n",
       "  <span class=\"btxt\">20. 토속촌</span>,\n",
       "  <span class=\"btxt\">다코포인트 5천원 쏨!</span>,\n",
       "  <span class=\"btxt\">21. 필동면옥</span>,\n",
       "  <span class=\"btxt\">22. 사모님돈가스</span>,\n",
       "  <span class=\"btxt\">23. 미즈컨테이너</span>,\n",
       "  <span class=\"btxt\">24. 중앙해장</span>,\n",
       "  <span class=\"btxt\">25. 라멘트럭</span>,\n",
       "  <span class=\"btxt\">26. 바토스 이태원점</span>,\n",
       "  <span class=\"btxt\">27. 멘야하나비</span>,\n",
       "  <span class=\"btxt\">28. 하동관 코엑스점</span>,\n",
       "  <span class=\"btxt\">29. 계림</span>,\n",
       "  <span class=\"btxt\">30. 정인면옥</span>,\n",
       "  <span class=\"btxt\">다코포인트 5천원 쏨!</span>,\n",
       "  <span class=\"btxt\">31. 부자피자 1호점</span>,\n",
       "  <span class=\"btxt\">32. 브루클린더버거조인트</span>,\n",
       "  <span class=\"btxt\">33. 고성막국수</span>,\n",
       "  <span class=\"btxt\">34. 다운타우너 한남점</span>,\n",
       "  <span class=\"btxt\">35. 조씨네 고기국수</span>,\n",
       "  <span class=\"btxt\">36. 어니언</span>,\n",
       "  <span class=\"btxt\">37. 만족오향족발</span>,\n",
       "  <span class=\"btxt\">38. 알베르</span>,\n",
       "  <span class=\"btxt\">39. 툭툭누들타이</span>,\n",
       "  <span class=\"btxt\">40. 화상손만두</span>,\n",
       "  <span class=\"btxt\">여기에 우리가게 홍보하기</span>,\n",
       "  <span class=\"btxt\">41. 반룡산</span>,\n",
       "  <span class=\"btxt\">42. 산수갑산</span>,\n",
       "  <span class=\"btxt\">43. 오레노</span>,\n",
       "  <span class=\"btxt\">44. 만푸쿠</span>,\n",
       "  <span class=\"btxt\">45. 독일주택</span>,\n",
       "  <span class=\"btxt\">46. 고에몬</span>,\n",
       "  <span class=\"btxt\">47. 황소고집</span>,\n",
       "  <span class=\"btxt\">48. 아이엠어버거</span>,\n",
       "  <span class=\"btxt\">49. 은주정</span>,\n",
       "  <span class=\"btxt\">50. 피오니</span>,\n",
       "  <span class=\"btxt\">다코포인트 5천원 쏨!</span>,\n",
       "  <span class=\"btxt\">51. 에베레스트 본점</span>,\n",
       "  <span class=\"btxt\">52. 자하손만두 본점</span>,\n",
       "  <span class=\"btxt\">53. 미분당</span>,\n",
       "  <span class=\"btxt\">54. 농민백암순대 본점</span>,\n",
       "  <span class=\"btxt\">55. 호야초밥</span>,\n",
       "  <span class=\"btxt\">56. 마얘</span>,\n",
       "  <span class=\"btxt\">57. 바다회사랑</span>,\n",
       "  <span class=\"btxt\">58. 쟈니덤플링 본점</span>,\n",
       "  <span class=\"btxt\">59. 빠오즈푸</span>,\n",
       "  <span class=\"btxt\">60. 우동 카덴</span>,\n",
       "  <span class=\"btxt\">다코포인트 5천원 쏨!</span>,\n",
       "  <span class=\"btxt\">61. 맛이차이나</span>,\n",
       "  <span class=\"btxt\">62. 애성회관</span>,\n",
       "  <span class=\"btxt\">63. 유진식당</span>,\n",
       "  <span class=\"btxt\">64. 깡통만두</span>,\n",
       "  <span class=\"btxt\">65. 영춘옥</span>,\n",
       "  <span class=\"btxt\">66. 진미평양냉면</span>,\n",
       "  <span class=\"btxt\">67. 브라더후드키친</span>,\n",
       "  <span class=\"btxt\">68. 호호식당</span>,\n",
       "  <span class=\"btxt\">69. 무라 1호점</span>,\n",
       "  <span class=\"btxt\">70. 핏제리아오 본점</span>,\n",
       "  <span class=\"btxt\">여기에 우리가게 홍보하기</span>,\n",
       "  <span class=\"btxt\">71. 목포집</span>,\n",
       "  <span class=\"btxt\">72. 잇텐고</span>,\n",
       "  <span class=\"btxt\">73. 지구당</span>,\n",
       "  <span class=\"btxt\">74. 쮸즈</span>,\n",
       "  <span class=\"btxt\">75. 사랑방칼국수</span>,\n",
       "  <span class=\"btxt\">76. C27</span>,\n",
       "  <span class=\"btxt\">77. 비스테까</span>,\n",
       "  <span class=\"btxt\">78. 삼청동 수제비</span>,\n",
       "  <span class=\"btxt\">79. 뽕나무쟁이 족발</span>,\n",
       "  <span class=\"btxt\">80. 이태리총각</span>,\n",
       "  <span class=\"btxt\">다코포인트 5천원 쏨!</span>,\n",
       "  <span class=\"btxt\">81. 안</span>,\n",
       "  <span class=\"btxt\">82. 바다식당</span>,\n",
       "  <span class=\"btxt\">83. 멘야산다이메</span>,\n",
       "  <span class=\"btxt\">84. 2046팬스테이크 본점</span>,\n",
       "  <span class=\"btxt\">85. 이나니와 요스케 시청점</span>,\n",
       "  <span class=\"btxt\">86. 현초밥</span>,\n",
       "  <span class=\"btxt\">87. 송죽장</span>,\n",
       "  <span class=\"btxt\">88. 가마마루이</span>,\n",
       "  <span class=\"btxt\">89. 다운타우너</span>,\n",
       "  <span class=\"btxt\">90. 풍년쌀농산</span>,\n",
       "  <span class=\"btxt\">여기에 우리가게 홍보하기</span>,\n",
       "  <span class=\"btxt\">91. 순대실록</span>,\n",
       "  <span class=\"btxt\">92. 깔리</span>,\n",
       "  <span class=\"btxt\">93. 라페름</span>,\n",
       "  <span class=\"btxt\">94. 무교동 북어국집</span>,\n",
       "  <span class=\"btxt\">95. 능라도</span>,\n",
       "  <span class=\"btxt\">96. 조박집</span>,\n",
       "  <span class=\"btxt\">97. 뭄알로이</span>,\n",
       "  <span class=\"btxt\">98. 에그썸</span>,\n",
       "  <span class=\"btxt\">99. 혜화 칼국수</span>,\n",
       "  <span class=\"btxt\">100. 박용석스시</span>]]"
      ]
     },
     "execution_count": 13,
     "metadata": {},
     "output_type": "execute_result"
    }
   ],
   "source": [
    "for s in food_list:\n",
    "    if '다코포인트' in s:\n",
    "        del food_list[s]\n",
    "food_list"
   ]
  },
  {
   "cell_type": "code",
   "execution_count": null,
   "metadata": {},
   "outputs": [],
   "source": []
  },
  {
   "cell_type": "code",
   "execution_count": 18,
   "metadata": {},
   "outputs": [],
   "source": []
  }
 ],
 "metadata": {
  "kernelspec": {
   "display_name": "Python 3",
   "language": "python",
   "name": "python3"
  },
  "language_info": {
   "codemirror_mode": {
    "name": "ipython",
    "version": 3
   },
   "file_extension": ".py",
   "mimetype": "text/x-python",
   "name": "python",
   "nbconvert_exporter": "python",
   "pygments_lexer": "ipython3",
   "version": "3.7.0"
  }
 },
 "nbformat": 4,
 "nbformat_minor": 2
}
