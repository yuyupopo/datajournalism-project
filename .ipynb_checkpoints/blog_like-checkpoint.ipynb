{
 "cells": [
  {
   "cell_type": "code",
   "execution_count": null,
   "metadata": {},
   "outputs": [],
   "source": [
    "import json\n",
    "\n",
    "json_url = \"https://blog.like.naver.com/v1/search/contents?suppress_response_codes=true&callback=jQuery112407360323986585509_1544254484707&q=BLOG%5Blyu1388_221414599396%5D&isDuplication=true&_=1544254484708\"\n",
    "with urllib.request.urlopen(json_url) as url:\n",
    "    json_doc = url.read().decode(\"utf-8\")\n",
    "    json_data = json.loads(json_doc)\n",
    "json_data"
   ]
  }
 ],
 "metadata": {
  "kernelspec": {
   "display_name": "Python 3",
   "language": "python",
   "name": "python3"
  },
  "language_info": {
   "codemirror_mode": {
    "name": "ipython",
    "version": 3
   },
   "file_extension": ".py",
   "mimetype": "text/x-python",
   "name": "python",
   "nbconvert_exporter": "python",
   "pygments_lexer": "ipython3",
   "version": "3.7.0"
  }
 },
 "nbformat": 4,
 "nbformat_minor": 2
}
